{
 "cells": [
  {
   "cell_type": "code",
   "execution_count": 1,
   "id": "faeca14f-2618-4581-81d7-b1de4286f2cd",
   "metadata": {},
   "outputs": [],
   "source": [
    "import pandas as pd\n",
    "import numpy as np\n",
    "import matplotlib.pyplot as plt\n",
    "from sklearn.preprocessing import StandardScaler\n",
    "from sklearn.metrics import accuracy_score\n",
    "from sklearn.model_selection import train_test_split"
   ]
  },
  {
   "cell_type": "code",
   "execution_count": 2,
   "id": "4a7dcce3-9146-4104-938a-1ff5cf87cc74",
   "metadata": {},
   "outputs": [
    {
     "data": {
      "text/html": [
       "<div>\n",
       "<style scoped>\n",
       "    .dataframe tbody tr th:only-of-type {\n",
       "        vertical-align: middle;\n",
       "    }\n",
       "\n",
       "    .dataframe tbody tr th {\n",
       "        vertical-align: top;\n",
       "    }\n",
       "\n",
       "    .dataframe thead th {\n",
       "        text-align: right;\n",
       "    }\n",
       "</style>\n",
       "<table border=\"1\" class=\"dataframe\">\n",
       "  <thead>\n",
       "    <tr style=\"text-align: right;\">\n",
       "      <th></th>\n",
       "      <th>RowNumber</th>\n",
       "      <th>CustomerId</th>\n",
       "      <th>Surname</th>\n",
       "      <th>CreditScore</th>\n",
       "      <th>Geography</th>\n",
       "      <th>Gender</th>\n",
       "      <th>Age</th>\n",
       "      <th>Tenure</th>\n",
       "      <th>Balance</th>\n",
       "      <th>NumOfProducts</th>\n",
       "      <th>HasCrCard</th>\n",
       "      <th>IsActiveMember</th>\n",
       "      <th>EstimatedSalary</th>\n",
       "      <th>Exited</th>\n",
       "    </tr>\n",
       "  </thead>\n",
       "  <tbody>\n",
       "    <tr>\n",
       "      <th>0</th>\n",
       "      <td>1</td>\n",
       "      <td>15634602</td>\n",
       "      <td>Hargrave</td>\n",
       "      <td>619</td>\n",
       "      <td>France</td>\n",
       "      <td>Female</td>\n",
       "      <td>42</td>\n",
       "      <td>2</td>\n",
       "      <td>0.00</td>\n",
       "      <td>1</td>\n",
       "      <td>1</td>\n",
       "      <td>1</td>\n",
       "      <td>101348.88</td>\n",
       "      <td>1</td>\n",
       "    </tr>\n",
       "    <tr>\n",
       "      <th>1</th>\n",
       "      <td>2</td>\n",
       "      <td>15647311</td>\n",
       "      <td>Hill</td>\n",
       "      <td>608</td>\n",
       "      <td>Spain</td>\n",
       "      <td>Female</td>\n",
       "      <td>41</td>\n",
       "      <td>1</td>\n",
       "      <td>83807.86</td>\n",
       "      <td>1</td>\n",
       "      <td>0</td>\n",
       "      <td>1</td>\n",
       "      <td>112542.58</td>\n",
       "      <td>0</td>\n",
       "    </tr>\n",
       "    <tr>\n",
       "      <th>2</th>\n",
       "      <td>3</td>\n",
       "      <td>15619304</td>\n",
       "      <td>Onio</td>\n",
       "      <td>502</td>\n",
       "      <td>France</td>\n",
       "      <td>Female</td>\n",
       "      <td>42</td>\n",
       "      <td>8</td>\n",
       "      <td>159660.80</td>\n",
       "      <td>3</td>\n",
       "      <td>1</td>\n",
       "      <td>0</td>\n",
       "      <td>113931.57</td>\n",
       "      <td>1</td>\n",
       "    </tr>\n",
       "    <tr>\n",
       "      <th>3</th>\n",
       "      <td>4</td>\n",
       "      <td>15701354</td>\n",
       "      <td>Boni</td>\n",
       "      <td>699</td>\n",
       "      <td>France</td>\n",
       "      <td>Female</td>\n",
       "      <td>39</td>\n",
       "      <td>1</td>\n",
       "      <td>0.00</td>\n",
       "      <td>2</td>\n",
       "      <td>0</td>\n",
       "      <td>0</td>\n",
       "      <td>93826.63</td>\n",
       "      <td>0</td>\n",
       "    </tr>\n",
       "    <tr>\n",
       "      <th>4</th>\n",
       "      <td>5</td>\n",
       "      <td>15737888</td>\n",
       "      <td>Mitchell</td>\n",
       "      <td>850</td>\n",
       "      <td>Spain</td>\n",
       "      <td>Female</td>\n",
       "      <td>43</td>\n",
       "      <td>2</td>\n",
       "      <td>125510.82</td>\n",
       "      <td>1</td>\n",
       "      <td>1</td>\n",
       "      <td>1</td>\n",
       "      <td>79084.10</td>\n",
       "      <td>0</td>\n",
       "    </tr>\n",
       "    <tr>\n",
       "      <th>5</th>\n",
       "      <td>6</td>\n",
       "      <td>15574012</td>\n",
       "      <td>Chu</td>\n",
       "      <td>645</td>\n",
       "      <td>Spain</td>\n",
       "      <td>Male</td>\n",
       "      <td>44</td>\n",
       "      <td>8</td>\n",
       "      <td>113755.78</td>\n",
       "      <td>2</td>\n",
       "      <td>1</td>\n",
       "      <td>0</td>\n",
       "      <td>149756.71</td>\n",
       "      <td>1</td>\n",
       "    </tr>\n",
       "  </tbody>\n",
       "</table>\n",
       "</div>"
      ],
      "text/plain": [
       "   RowNumber  CustomerId   Surname  CreditScore Geography  Gender  Age   \n",
       "0          1    15634602  Hargrave          619    France  Female   42  \\\n",
       "1          2    15647311      Hill          608     Spain  Female   41   \n",
       "2          3    15619304      Onio          502    France  Female   42   \n",
       "3          4    15701354      Boni          699    France  Female   39   \n",
       "4          5    15737888  Mitchell          850     Spain  Female   43   \n",
       "5          6    15574012       Chu          645     Spain    Male   44   \n",
       "\n",
       "   Tenure    Balance  NumOfProducts  HasCrCard  IsActiveMember   \n",
       "0       2       0.00              1          1               1  \\\n",
       "1       1   83807.86              1          0               1   \n",
       "2       8  159660.80              3          1               0   \n",
       "3       1       0.00              2          0               0   \n",
       "4       2  125510.82              1          1               1   \n",
       "5       8  113755.78              2          1               0   \n",
       "\n",
       "   EstimatedSalary  Exited  \n",
       "0        101348.88       1  \n",
       "1        112542.58       0  \n",
       "2        113931.57       1  \n",
       "3         93826.63       0  \n",
       "4         79084.10       0  \n",
       "5        149756.71       1  "
      ]
     },
     "execution_count": 2,
     "metadata": {},
     "output_type": "execute_result"
    }
   ],
   "source": [
    "df = pd.read_csv(\"churn.csv\")\n",
    "df.head(6)"
   ]
  },
  {
   "cell_type": "code",
   "execution_count": 3,
   "id": "244eb3f3-2f57-45eb-b560-c868eb811f76",
   "metadata": {},
   "outputs": [
    {
     "data": {
      "text/plain": [
       "(10000, 14)"
      ]
     },
     "execution_count": 3,
     "metadata": {},
     "output_type": "execute_result"
    }
   ],
   "source": [
    "df.shape"
   ]
  },
  {
   "cell_type": "code",
   "execution_count": 4,
   "id": "80b238ef-05a0-4ea5-bea2-e368ff4fb90f",
   "metadata": {},
   "outputs": [
    {
     "name": "stdout",
     "output_type": "stream",
     "text": [
      "<class 'pandas.core.frame.DataFrame'>\n",
      "RangeIndex: 10000 entries, 0 to 9999\n",
      "Data columns (total 14 columns):\n",
      " #   Column           Non-Null Count  Dtype  \n",
      "---  ------           --------------  -----  \n",
      " 0   RowNumber        10000 non-null  int64  \n",
      " 1   CustomerId       10000 non-null  int64  \n",
      " 2   Surname          10000 non-null  object \n",
      " 3   CreditScore      10000 non-null  int64  \n",
      " 4   Geography        10000 non-null  object \n",
      " 5   Gender           10000 non-null  object \n",
      " 6   Age              10000 non-null  int64  \n",
      " 7   Tenure           10000 non-null  int64  \n",
      " 8   Balance          10000 non-null  float64\n",
      " 9   NumOfProducts    10000 non-null  int64  \n",
      " 10  HasCrCard        10000 non-null  int64  \n",
      " 11  IsActiveMember   10000 non-null  int64  \n",
      " 12  EstimatedSalary  10000 non-null  float64\n",
      " 13  Exited           10000 non-null  int64  \n",
      "dtypes: float64(2), int64(9), object(3)\n",
      "memory usage: 1.1+ MB\n"
     ]
    }
   ],
   "source": [
    "df.info()"
   ]
  },
  {
   "cell_type": "code",
   "execution_count": 5,
   "id": "c2976654-5d0f-4b2d-bce5-1768cca33515",
   "metadata": {},
   "outputs": [
    {
     "data": {
      "text/html": [
       "<div>\n",
       "<style scoped>\n",
       "    .dataframe tbody tr th:only-of-type {\n",
       "        vertical-align: middle;\n",
       "    }\n",
       "\n",
       "    .dataframe tbody tr th {\n",
       "        vertical-align: top;\n",
       "    }\n",
       "\n",
       "    .dataframe thead th {\n",
       "        text-align: right;\n",
       "    }\n",
       "</style>\n",
       "<table border=\"1\" class=\"dataframe\">\n",
       "  <thead>\n",
       "    <tr style=\"text-align: right;\">\n",
       "      <th></th>\n",
       "      <th>CreditScore</th>\n",
       "      <th>Geography</th>\n",
       "      <th>Gender</th>\n",
       "      <th>Tenure</th>\n",
       "      <th>Balance</th>\n",
       "      <th>NumOfProducts</th>\n",
       "      <th>HasCrCard</th>\n",
       "      <th>IsActiveMember</th>\n",
       "      <th>EstimatedSalary</th>\n",
       "      <th>Exited</th>\n",
       "    </tr>\n",
       "  </thead>\n",
       "  <tbody>\n",
       "    <tr>\n",
       "      <th>0</th>\n",
       "      <td>619</td>\n",
       "      <td>France</td>\n",
       "      <td>Female</td>\n",
       "      <td>2</td>\n",
       "      <td>0.00</td>\n",
       "      <td>1</td>\n",
       "      <td>1</td>\n",
       "      <td>1</td>\n",
       "      <td>101348.88</td>\n",
       "      <td>1</td>\n",
       "    </tr>\n",
       "    <tr>\n",
       "      <th>1</th>\n",
       "      <td>608</td>\n",
       "      <td>Spain</td>\n",
       "      <td>Female</td>\n",
       "      <td>1</td>\n",
       "      <td>83807.86</td>\n",
       "      <td>1</td>\n",
       "      <td>0</td>\n",
       "      <td>1</td>\n",
       "      <td>112542.58</td>\n",
       "      <td>0</td>\n",
       "    </tr>\n",
       "    <tr>\n",
       "      <th>2</th>\n",
       "      <td>502</td>\n",
       "      <td>France</td>\n",
       "      <td>Female</td>\n",
       "      <td>8</td>\n",
       "      <td>159660.80</td>\n",
       "      <td>3</td>\n",
       "      <td>1</td>\n",
       "      <td>0</td>\n",
       "      <td>113931.57</td>\n",
       "      <td>1</td>\n",
       "    </tr>\n",
       "  </tbody>\n",
       "</table>\n",
       "</div>"
      ],
      "text/plain": [
       "   CreditScore Geography  Gender  Tenure    Balance  NumOfProducts  HasCrCard   \n",
       "0          619    France  Female       2       0.00              1          1  \\\n",
       "1          608     Spain  Female       1   83807.86              1          0   \n",
       "2          502    France  Female       8  159660.80              3          1   \n",
       "\n",
       "   IsActiveMember  EstimatedSalary  Exited  \n",
       "0               1        101348.88       1  \n",
       "1               1        112542.58       0  \n",
       "2               0        113931.57       1  "
      ]
     },
     "execution_count": 5,
     "metadata": {},
     "output_type": "execute_result"
    }
   ],
   "source": [
    "df.drop(columns=[\"RowNumber\",\"CustomerId\",\"Surname\",\"Age\"], axis=1, inplace=True)\n",
    "df.head(3)"
   ]
  },
  {
   "cell_type": "code",
   "execution_count": 6,
   "id": "f09a71c1-1d5a-4c15-a2e3-eb70a7b3dd1e",
   "metadata": {},
   "outputs": [
    {
     "data": {
      "text/plain": [
       "CreditScore        0\n",
       "Geography          0\n",
       "Gender             0\n",
       "Tenure             0\n",
       "Balance            0\n",
       "NumOfProducts      0\n",
       "HasCrCard          0\n",
       "IsActiveMember     0\n",
       "EstimatedSalary    0\n",
       "Exited             0\n",
       "dtype: int64"
      ]
     },
     "execution_count": 6,
     "metadata": {},
     "output_type": "execute_result"
    }
   ],
   "source": [
    "df.isnull().sum()"
   ]
  },
  {
   "cell_type": "code",
   "execution_count": 7,
   "id": "a954827e-3271-44b1-8787-8193e0dfaace",
   "metadata": {},
   "outputs": [
    {
     "data": {
      "text/plain": [
       "0"
      ]
     },
     "execution_count": 7,
     "metadata": {},
     "output_type": "execute_result"
    }
   ],
   "source": [
    "df.duplicated().sum()"
   ]
  },
  {
   "cell_type": "code",
   "execution_count": 8,
   "id": "8d358e50-3877-4968-bae8-48e41d1fcffe",
   "metadata": {},
   "outputs": [
    {
     "data": {
      "text/plain": [
       "Exited\n",
       "0    7963\n",
       "1    2037\n",
       "Name: count, dtype: int64"
      ]
     },
     "execution_count": 8,
     "metadata": {},
     "output_type": "execute_result"
    }
   ],
   "source": [
    "df.Exited.value_counts()"
   ]
  },
  {
   "cell_type": "code",
   "execution_count": 9,
   "id": "fccedccb-276f-486c-ba78-d88402f08613",
   "metadata": {},
   "outputs": [
    {
     "data": {
      "text/plain": [
       "Geography\n",
       "France     5014\n",
       "Germany    2509\n",
       "Spain      2477\n",
       "Name: count, dtype: int64"
      ]
     },
     "execution_count": 9,
     "metadata": {},
     "output_type": "execute_result"
    }
   ],
   "source": [
    "df.Geography.value_counts()"
   ]
  },
  {
   "cell_type": "code",
   "execution_count": 10,
   "id": "d0f558c4-0743-4e56-bee8-211abd25fc41",
   "metadata": {},
   "outputs": [
    {
     "data": {
      "text/html": [
       "<div>\n",
       "<style scoped>\n",
       "    .dataframe tbody tr th:only-of-type {\n",
       "        vertical-align: middle;\n",
       "    }\n",
       "\n",
       "    .dataframe tbody tr th {\n",
       "        vertical-align: top;\n",
       "    }\n",
       "\n",
       "    .dataframe thead th {\n",
       "        text-align: right;\n",
       "    }\n",
       "</style>\n",
       "<table border=\"1\" class=\"dataframe\">\n",
       "  <thead>\n",
       "    <tr style=\"text-align: right;\">\n",
       "      <th></th>\n",
       "      <th>CreditScore</th>\n",
       "      <th>Tenure</th>\n",
       "      <th>Balance</th>\n",
       "      <th>NumOfProducts</th>\n",
       "      <th>HasCrCard</th>\n",
       "      <th>IsActiveMember</th>\n",
       "      <th>EstimatedSalary</th>\n",
       "      <th>Exited</th>\n",
       "      <th>Geography_Germany</th>\n",
       "      <th>Geography_Spain</th>\n",
       "      <th>Gender_Male</th>\n",
       "    </tr>\n",
       "  </thead>\n",
       "  <tbody>\n",
       "    <tr>\n",
       "      <th>0</th>\n",
       "      <td>619</td>\n",
       "      <td>2</td>\n",
       "      <td>0.00</td>\n",
       "      <td>1</td>\n",
       "      <td>1</td>\n",
       "      <td>1</td>\n",
       "      <td>101348.88</td>\n",
       "      <td>1</td>\n",
       "      <td>0</td>\n",
       "      <td>0</td>\n",
       "      <td>0</td>\n",
       "    </tr>\n",
       "    <tr>\n",
       "      <th>1</th>\n",
       "      <td>608</td>\n",
       "      <td>1</td>\n",
       "      <td>83807.86</td>\n",
       "      <td>1</td>\n",
       "      <td>0</td>\n",
       "      <td>1</td>\n",
       "      <td>112542.58</td>\n",
       "      <td>0</td>\n",
       "      <td>0</td>\n",
       "      <td>1</td>\n",
       "      <td>0</td>\n",
       "    </tr>\n",
       "    <tr>\n",
       "      <th>2</th>\n",
       "      <td>502</td>\n",
       "      <td>8</td>\n",
       "      <td>159660.80</td>\n",
       "      <td>3</td>\n",
       "      <td>1</td>\n",
       "      <td>0</td>\n",
       "      <td>113931.57</td>\n",
       "      <td>1</td>\n",
       "      <td>0</td>\n",
       "      <td>0</td>\n",
       "      <td>0</td>\n",
       "    </tr>\n",
       "    <tr>\n",
       "      <th>3</th>\n",
       "      <td>699</td>\n",
       "      <td>1</td>\n",
       "      <td>0.00</td>\n",
       "      <td>2</td>\n",
       "      <td>0</td>\n",
       "      <td>0</td>\n",
       "      <td>93826.63</td>\n",
       "      <td>0</td>\n",
       "      <td>0</td>\n",
       "      <td>0</td>\n",
       "      <td>0</td>\n",
       "    </tr>\n",
       "    <tr>\n",
       "      <th>4</th>\n",
       "      <td>850</td>\n",
       "      <td>2</td>\n",
       "      <td>125510.82</td>\n",
       "      <td>1</td>\n",
       "      <td>1</td>\n",
       "      <td>1</td>\n",
       "      <td>79084.10</td>\n",
       "      <td>0</td>\n",
       "      <td>0</td>\n",
       "      <td>1</td>\n",
       "      <td>0</td>\n",
       "    </tr>\n",
       "    <tr>\n",
       "      <th>5</th>\n",
       "      <td>645</td>\n",
       "      <td>8</td>\n",
       "      <td>113755.78</td>\n",
       "      <td>2</td>\n",
       "      <td>1</td>\n",
       "      <td>0</td>\n",
       "      <td>149756.71</td>\n",
       "      <td>1</td>\n",
       "      <td>0</td>\n",
       "      <td>1</td>\n",
       "      <td>1</td>\n",
       "    </tr>\n",
       "  </tbody>\n",
       "</table>\n",
       "</div>"
      ],
      "text/plain": [
       "   CreditScore  Tenure    Balance  NumOfProducts  HasCrCard  IsActiveMember   \n",
       "0          619       2       0.00              1          1               1  \\\n",
       "1          608       1   83807.86              1          0               1   \n",
       "2          502       8  159660.80              3          1               0   \n",
       "3          699       1       0.00              2          0               0   \n",
       "4          850       2  125510.82              1          1               1   \n",
       "5          645       8  113755.78              2          1               0   \n",
       "\n",
       "   EstimatedSalary  Exited  Geography_Germany  Geography_Spain  Gender_Male  \n",
       "0        101348.88       1                  0                0            0  \n",
       "1        112542.58       0                  0                1            0  \n",
       "2        113931.57       1                  0                0            0  \n",
       "3         93826.63       0                  0                0            0  \n",
       "4         79084.10       0                  0                1            0  \n",
       "5        149756.71       1                  0                1            1  "
      ]
     },
     "execution_count": 10,
     "metadata": {},
     "output_type": "execute_result"
    }
   ],
   "source": [
    "final_df = pd.get_dummies(df, columns=[\"Geography\",\"Gender\"], drop_first=True, dtype=int)\n",
    "final_df.head(6)"
   ]
  },
  {
   "cell_type": "code",
   "execution_count": 11,
   "id": "f17ee0fe-5445-425a-911b-efca55267400",
   "metadata": {},
   "outputs": [],
   "source": [
    "X = final_df.drop(columns = [\"Exited\"])\n",
    "y = final_df.Exited"
   ]
  },
  {
   "cell_type": "code",
   "execution_count": 12,
   "id": "47a69111-013d-487e-b7d2-23e81c1aa40d",
   "metadata": {},
   "outputs": [],
   "source": [
    "X_train, X_test, y_train, y_test = train_test_split(X, y, random_state=20)"
   ]
  },
  {
   "cell_type": "code",
   "execution_count": 13,
   "id": "1717f0bb-95e6-436d-b9e9-c85fb4ffc971",
   "metadata": {},
   "outputs": [
    {
     "data": {
      "text/plain": [
       "(7500, 10)"
      ]
     },
     "execution_count": 13,
     "metadata": {},
     "output_type": "execute_result"
    }
   ],
   "source": [
    "X_train.shape"
   ]
  },
  {
   "cell_type": "code",
   "execution_count": 14,
   "id": "2b8f58de-c073-48a5-9804-064db51586f2",
   "metadata": {},
   "outputs": [],
   "source": [
    "ss = StandardScaler()\n",
    "x_train_trans = ss.fit_transform(X_train)\n",
    "x_test_trans = ss.transform(X_test)"
   ]
  },
  {
   "cell_type": "code",
   "execution_count": 15,
   "id": "7d14cbe5-be64-4542-80ae-a6a86966f391",
   "metadata": {},
   "outputs": [
    {
     "data": {
      "text/plain": [
       "array([[-0.60390003,  1.37625225,  0.88975445, ..., -0.57981364,\n",
       "        -0.5818665 ,  0.91826179],\n",
       "       [ 0.04473598,  0.68299603,  0.36900201, ..., -0.57981364,\n",
       "        -0.5818665 ,  0.91826179],\n",
       "       [ 0.30213122,  0.33636792,  0.62031555, ..., -0.57981364,\n",
       "        -0.5818665 , -1.08901406],\n",
       "       ...,\n",
       "       [ 0.50804742, -0.70351641,  0.55719841, ...,  1.72469209,\n",
       "        -0.5818665 , -1.08901406],\n",
       "       [-2.2615254 , -0.01026019, -1.22137689, ..., -0.57981364,\n",
       "        -0.5818665 ,  0.91826179],\n",
       "       [-0.78922461, -1.74340074,  1.33096992, ..., -0.57981364,\n",
       "         1.71860727,  0.91826179]])"
      ]
     },
     "execution_count": 15,
     "metadata": {},
     "output_type": "execute_result"
    }
   ],
   "source": [
    "x_train_trans"
   ]
  },
  {
   "cell_type": "code",
   "execution_count": 16,
   "id": "0089b659-fb2d-421b-84cb-562578822b16",
   "metadata": {},
   "outputs": [
    {
     "name": "stderr",
     "output_type": "stream",
     "text": [
      "2023-05-10 13:38:37.824542: I tensorflow/core/util/port.cc:110] oneDNN custom operations are on. You may see slightly different numerical results due to floating-point round-off errors from different computation orders. To turn them off, set the environment variable `TF_ENABLE_ONEDNN_OPTS=0`.\n",
      "2023-05-10 13:38:37.826470: I tensorflow/tsl/cuda/cudart_stub.cc:28] Could not find cuda drivers on your machine, GPU will not be used.\n",
      "2023-05-10 13:38:37.868111: I tensorflow/tsl/cuda/cudart_stub.cc:28] Could not find cuda drivers on your machine, GPU will not be used.\n",
      "2023-05-10 13:38:37.868903: I tensorflow/core/platform/cpu_feature_guard.cc:182] This TensorFlow binary is optimized to use available CPU instructions in performance-critical operations.\n",
      "To enable the following instructions: AVX2 AVX512F AVX512_VNNI FMA, in other operations, rebuild TensorFlow with the appropriate compiler flags.\n",
      "2023-05-10 13:38:38.689227: W tensorflow/compiler/tf2tensorrt/utils/py_utils.cc:38] TF-TRT Warning: Could not find TensorRT\n"
     ]
    }
   ],
   "source": [
    "import tensorflow\n",
    "from tensorflow import keras\n",
    "from tensorflow.keras import Sequential\n",
    "from tensorflow.keras.layers import Dense"
   ]
  },
  {
   "cell_type": "code",
   "execution_count": 17,
   "id": "0d3e54bb-4960-4fe8-af47-90183c201535",
   "metadata": {},
   "outputs": [],
   "source": [
    "model = Sequential()\n",
    "\n",
    "model.add(Dense(11, activation='relu', input_dim=10))\n",
    "model.add(Dense(8, activation='relu'))\n",
    "model.add(Dense(5,activation='sigmoid'))\n",
    "model.add(Dense(1, activation='sigmoid'))"
   ]
  },
  {
   "cell_type": "code",
   "execution_count": 18,
   "id": "0b1f9a8b-c9ed-47bd-b3b6-df4dfdb40728",
   "metadata": {},
   "outputs": [
    {
     "name": "stdout",
     "output_type": "stream",
     "text": [
      "Model: \"sequential\"\n",
      "_________________________________________________________________\n",
      " Layer (type)                Output Shape              Param #   \n",
      "=================================================================\n",
      " dense (Dense)               (None, 11)                121       \n",
      "                                                                 \n",
      " dense_1 (Dense)             (None, 8)                 96        \n",
      "                                                                 \n",
      " dense_2 (Dense)             (None, 5)                 45        \n",
      "                                                                 \n",
      " dense_3 (Dense)             (None, 1)                 6         \n",
      "                                                                 \n",
      "=================================================================\n",
      "Total params: 268\n",
      "Trainable params: 268\n",
      "Non-trainable params: 0\n",
      "_________________________________________________________________\n"
     ]
    }
   ],
   "source": [
    "model.summary()"
   ]
  },
  {
   "cell_type": "code",
   "execution_count": 19,
   "id": "48b42166-b9b3-4244-967f-01a89aeb5820",
   "metadata": {},
   "outputs": [],
   "source": [
    "model.compile(loss=\"binary_crossentropy\", optimizer='Adam', metrics=['accuracy'])"
   ]
  },
  {
   "cell_type": "code",
   "execution_count": 20,
   "id": "51a22a61-5768-4a1f-95d6-a721fd8e6940",
   "metadata": {},
   "outputs": [
    {
     "name": "stdout",
     "output_type": "stream",
     "text": [
      "Epoch 1/100\n",
      "165/165 [==============================] - 1s 4ms/step - loss: 0.6427 - accuracy: 0.6341 - val_loss: 0.5326 - val_accuracy: 0.7996\n",
      "Epoch 2/100\n",
      "165/165 [==============================] - 0s 2ms/step - loss: 0.5133 - accuracy: 0.7890 - val_loss: 0.4845 - val_accuracy: 0.7996\n",
      "Epoch 3/100\n",
      "165/165 [==============================] - 0s 2ms/step - loss: 0.4968 - accuracy: 0.7890 - val_loss: 0.4775 - val_accuracy: 0.7996\n",
      "Epoch 4/100\n",
      "165/165 [==============================] - 0s 2ms/step - loss: 0.4913 - accuracy: 0.7890 - val_loss: 0.4721 - val_accuracy: 0.8000\n",
      "Epoch 5/100\n",
      "165/165 [==============================] - 0s 2ms/step - loss: 0.4848 - accuracy: 0.7903 - val_loss: 0.4630 - val_accuracy: 0.8044\n",
      "Epoch 6/100\n",
      "165/165 [==============================] - 0s 2ms/step - loss: 0.4738 - accuracy: 0.7981 - val_loss: 0.4496 - val_accuracy: 0.8182\n",
      "Epoch 7/100\n",
      "165/165 [==============================] - 0s 2ms/step - loss: 0.4626 - accuracy: 0.8048 - val_loss: 0.4373 - val_accuracy: 0.8231\n",
      "Epoch 8/100\n",
      "165/165 [==============================] - 0s 2ms/step - loss: 0.4530 - accuracy: 0.8078 - val_loss: 0.4277 - val_accuracy: 0.8244\n",
      "Epoch 9/100\n",
      "165/165 [==============================] - 0s 2ms/step - loss: 0.4447 - accuracy: 0.8091 - val_loss: 0.4202 - val_accuracy: 0.8258\n",
      "Epoch 10/100\n",
      "165/165 [==============================] - 0s 2ms/step - loss: 0.4381 - accuracy: 0.8103 - val_loss: 0.4150 - val_accuracy: 0.8262\n",
      "Epoch 11/100\n",
      "165/165 [==============================] - 0s 2ms/step - loss: 0.4319 - accuracy: 0.8105 - val_loss: 0.4109 - val_accuracy: 0.8320\n",
      "Epoch 12/100\n",
      "165/165 [==============================] - 0s 2ms/step - loss: 0.4275 - accuracy: 0.8116 - val_loss: 0.4067 - val_accuracy: 0.8311\n",
      "Epoch 13/100\n",
      "165/165 [==============================] - 0s 2ms/step - loss: 0.4239 - accuracy: 0.8120 - val_loss: 0.4045 - val_accuracy: 0.8298\n",
      "Epoch 14/100\n",
      "165/165 [==============================] - 0s 3ms/step - loss: 0.4206 - accuracy: 0.8122 - val_loss: 0.4011 - val_accuracy: 0.8307\n",
      "Epoch 15/100\n",
      "165/165 [==============================] - 0s 2ms/step - loss: 0.4184 - accuracy: 0.8131 - val_loss: 0.3991 - val_accuracy: 0.8307\n",
      "Epoch 16/100\n",
      "165/165 [==============================] - 0s 2ms/step - loss: 0.4158 - accuracy: 0.8126 - val_loss: 0.3988 - val_accuracy: 0.8320\n",
      "Epoch 17/100\n",
      "165/165 [==============================] - 0s 2ms/step - loss: 0.4141 - accuracy: 0.8152 - val_loss: 0.3974 - val_accuracy: 0.8320\n",
      "Epoch 18/100\n",
      "165/165 [==============================] - 0s 2ms/step - loss: 0.4130 - accuracy: 0.8162 - val_loss: 0.3972 - val_accuracy: 0.8298\n",
      "Epoch 19/100\n",
      "165/165 [==============================] - 0s 2ms/step - loss: 0.4117 - accuracy: 0.8170 - val_loss: 0.3968 - val_accuracy: 0.8280\n",
      "Epoch 20/100\n",
      "165/165 [==============================] - 0s 2ms/step - loss: 0.4103 - accuracy: 0.8166 - val_loss: 0.3959 - val_accuracy: 0.8280\n",
      "Epoch 21/100\n",
      "165/165 [==============================] - 0s 2ms/step - loss: 0.4096 - accuracy: 0.8162 - val_loss: 0.3948 - val_accuracy: 0.8249\n",
      "Epoch 22/100\n",
      "165/165 [==============================] - 0s 2ms/step - loss: 0.4085 - accuracy: 0.8173 - val_loss: 0.3950 - val_accuracy: 0.8227\n",
      "Epoch 23/100\n",
      "165/165 [==============================] - 0s 3ms/step - loss: 0.4077 - accuracy: 0.8175 - val_loss: 0.3949 - val_accuracy: 0.8231\n",
      "Epoch 24/100\n",
      "165/165 [==============================] - 0s 3ms/step - loss: 0.4073 - accuracy: 0.8187 - val_loss: 0.3953 - val_accuracy: 0.8231\n",
      "Epoch 25/100\n",
      "165/165 [==============================] - 0s 3ms/step - loss: 0.4066 - accuracy: 0.8183 - val_loss: 0.3944 - val_accuracy: 0.8222\n",
      "Epoch 26/100\n",
      "165/165 [==============================] - 0s 3ms/step - loss: 0.4060 - accuracy: 0.8181 - val_loss: 0.3938 - val_accuracy: 0.8227\n",
      "Epoch 27/100\n",
      "165/165 [==============================] - 0s 2ms/step - loss: 0.4052 - accuracy: 0.8189 - val_loss: 0.3943 - val_accuracy: 0.8191\n",
      "Epoch 28/100\n",
      "165/165 [==============================] - 0s 2ms/step - loss: 0.4045 - accuracy: 0.8181 - val_loss: 0.3947 - val_accuracy: 0.8218\n",
      "Epoch 29/100\n",
      "165/165 [==============================] - 0s 2ms/step - loss: 0.4041 - accuracy: 0.8192 - val_loss: 0.3942 - val_accuracy: 0.8209\n",
      "Epoch 30/100\n",
      "165/165 [==============================] - 0s 2ms/step - loss: 0.4036 - accuracy: 0.8206 - val_loss: 0.3938 - val_accuracy: 0.8173\n",
      "Epoch 31/100\n",
      "165/165 [==============================] - 0s 2ms/step - loss: 0.4029 - accuracy: 0.8185 - val_loss: 0.3942 - val_accuracy: 0.8209\n",
      "Epoch 32/100\n",
      "165/165 [==============================] - 0s 2ms/step - loss: 0.4026 - accuracy: 0.8179 - val_loss: 0.3938 - val_accuracy: 0.8187\n",
      "Epoch 33/100\n",
      "165/165 [==============================] - 0s 3ms/step - loss: 0.4025 - accuracy: 0.8196 - val_loss: 0.3938 - val_accuracy: 0.8196\n",
      "Epoch 34/100\n",
      "165/165 [==============================] - 0s 2ms/step - loss: 0.4012 - accuracy: 0.8217 - val_loss: 0.3936 - val_accuracy: 0.8200\n",
      "Epoch 35/100\n",
      "165/165 [==============================] - 0s 3ms/step - loss: 0.4014 - accuracy: 0.8198 - val_loss: 0.3946 - val_accuracy: 0.8218\n",
      "Epoch 36/100\n",
      "165/165 [==============================] - 0s 3ms/step - loss: 0.4007 - accuracy: 0.8208 - val_loss: 0.3948 - val_accuracy: 0.8204\n",
      "Epoch 37/100\n",
      "165/165 [==============================] - 0s 2ms/step - loss: 0.4005 - accuracy: 0.8213 - val_loss: 0.3946 - val_accuracy: 0.8187\n",
      "Epoch 38/100\n",
      "165/165 [==============================] - 0s 3ms/step - loss: 0.3999 - accuracy: 0.8179 - val_loss: 0.3935 - val_accuracy: 0.8187\n",
      "Epoch 39/100\n",
      "165/165 [==============================] - 0s 3ms/step - loss: 0.3992 - accuracy: 0.8181 - val_loss: 0.3939 - val_accuracy: 0.8169\n",
      "Epoch 40/100\n",
      "165/165 [==============================] - 0s 3ms/step - loss: 0.3989 - accuracy: 0.8202 - val_loss: 0.3938 - val_accuracy: 0.8182\n",
      "Epoch 41/100\n",
      "165/165 [==============================] - 0s 2ms/step - loss: 0.3981 - accuracy: 0.8185 - val_loss: 0.3958 - val_accuracy: 0.8196\n",
      "Epoch 42/100\n",
      "165/165 [==============================] - 0s 2ms/step - loss: 0.3984 - accuracy: 0.8206 - val_loss: 0.3947 - val_accuracy: 0.8191\n",
      "Epoch 43/100\n",
      "165/165 [==============================] - 0s 2ms/step - loss: 0.3980 - accuracy: 0.8196 - val_loss: 0.3937 - val_accuracy: 0.8182\n",
      "Epoch 44/100\n",
      "165/165 [==============================] - 0s 2ms/step - loss: 0.3975 - accuracy: 0.8177 - val_loss: 0.3940 - val_accuracy: 0.8191\n",
      "Epoch 45/100\n",
      "165/165 [==============================] - 0s 2ms/step - loss: 0.3968 - accuracy: 0.8200 - val_loss: 0.3962 - val_accuracy: 0.8178\n",
      "Epoch 46/100\n",
      "165/165 [==============================] - 0s 2ms/step - loss: 0.3967 - accuracy: 0.8198 - val_loss: 0.3949 - val_accuracy: 0.8173\n",
      "Epoch 47/100\n",
      "165/165 [==============================] - 0s 2ms/step - loss: 0.3963 - accuracy: 0.8210 - val_loss: 0.3949 - val_accuracy: 0.8182\n",
      "Epoch 48/100\n",
      "165/165 [==============================] - 0s 2ms/step - loss: 0.3966 - accuracy: 0.8219 - val_loss: 0.3943 - val_accuracy: 0.8196\n",
      "Epoch 49/100\n",
      "165/165 [==============================] - 0s 2ms/step - loss: 0.3962 - accuracy: 0.8202 - val_loss: 0.3945 - val_accuracy: 0.8187\n",
      "Epoch 50/100\n",
      "165/165 [==============================] - 0s 2ms/step - loss: 0.3956 - accuracy: 0.8189 - val_loss: 0.3947 - val_accuracy: 0.8187\n",
      "Epoch 51/100\n",
      "165/165 [==============================] - 0s 2ms/step - loss: 0.3952 - accuracy: 0.8210 - val_loss: 0.3941 - val_accuracy: 0.8209\n",
      "Epoch 52/100\n",
      "165/165 [==============================] - 0s 2ms/step - loss: 0.3953 - accuracy: 0.8198 - val_loss: 0.3938 - val_accuracy: 0.8178\n",
      "Epoch 53/100\n",
      "165/165 [==============================] - 0s 2ms/step - loss: 0.3951 - accuracy: 0.8223 - val_loss: 0.3951 - val_accuracy: 0.8213\n",
      "Epoch 54/100\n",
      "165/165 [==============================] - 0s 2ms/step - loss: 0.3947 - accuracy: 0.8221 - val_loss: 0.3945 - val_accuracy: 0.8178\n",
      "Epoch 55/100\n",
      "165/165 [==============================] - 0s 2ms/step - loss: 0.3944 - accuracy: 0.8213 - val_loss: 0.3942 - val_accuracy: 0.8187\n",
      "Epoch 56/100\n",
      "165/165 [==============================] - 0s 2ms/step - loss: 0.3948 - accuracy: 0.8206 - val_loss: 0.3942 - val_accuracy: 0.8187\n",
      "Epoch 57/100\n",
      "165/165 [==============================] - 0s 2ms/step - loss: 0.3945 - accuracy: 0.8208 - val_loss: 0.3970 - val_accuracy: 0.8196\n",
      "Epoch 58/100\n",
      "165/165 [==============================] - 0s 3ms/step - loss: 0.3938 - accuracy: 0.8230 - val_loss: 0.3949 - val_accuracy: 0.8173\n",
      "Epoch 59/100\n",
      "165/165 [==============================] - 0s 2ms/step - loss: 0.3941 - accuracy: 0.8227 - val_loss: 0.3955 - val_accuracy: 0.8191\n",
      "Epoch 60/100\n",
      "165/165 [==============================] - 0s 2ms/step - loss: 0.3940 - accuracy: 0.8221 - val_loss: 0.3952 - val_accuracy: 0.8173\n",
      "Epoch 61/100\n",
      "165/165 [==============================] - 0s 2ms/step - loss: 0.3938 - accuracy: 0.8215 - val_loss: 0.3953 - val_accuracy: 0.8187\n",
      "Epoch 62/100\n",
      "165/165 [==============================] - 0s 2ms/step - loss: 0.3934 - accuracy: 0.8217 - val_loss: 0.3943 - val_accuracy: 0.8196\n",
      "Epoch 63/100\n",
      "165/165 [==============================] - 0s 2ms/step - loss: 0.3938 - accuracy: 0.8217 - val_loss: 0.3950 - val_accuracy: 0.8204\n",
      "Epoch 64/100\n",
      "165/165 [==============================] - 0s 3ms/step - loss: 0.3932 - accuracy: 0.8225 - val_loss: 0.3959 - val_accuracy: 0.8222\n",
      "Epoch 65/100\n",
      "165/165 [==============================] - 0s 3ms/step - loss: 0.3926 - accuracy: 0.8206 - val_loss: 0.3948 - val_accuracy: 0.8222\n",
      "Epoch 66/100\n",
      "165/165 [==============================] - 0s 2ms/step - loss: 0.3928 - accuracy: 0.8223 - val_loss: 0.3956 - val_accuracy: 0.8191\n",
      "Epoch 67/100\n",
      "165/165 [==============================] - 0s 3ms/step - loss: 0.3927 - accuracy: 0.8210 - val_loss: 0.3951 - val_accuracy: 0.8196\n",
      "Epoch 68/100\n",
      "165/165 [==============================] - 0s 3ms/step - loss: 0.3926 - accuracy: 0.8248 - val_loss: 0.3961 - val_accuracy: 0.8204\n",
      "Epoch 69/100\n",
      "165/165 [==============================] - 0s 3ms/step - loss: 0.3924 - accuracy: 0.8225 - val_loss: 0.3953 - val_accuracy: 0.8187\n",
      "Epoch 70/100\n",
      "165/165 [==============================] - 0s 3ms/step - loss: 0.3924 - accuracy: 0.8244 - val_loss: 0.3966 - val_accuracy: 0.8227\n",
      "Epoch 71/100\n",
      "165/165 [==============================] - 0s 3ms/step - loss: 0.3918 - accuracy: 0.8227 - val_loss: 0.3965 - val_accuracy: 0.8182\n",
      "Epoch 72/100\n",
      "165/165 [==============================] - 0s 3ms/step - loss: 0.3918 - accuracy: 0.8250 - val_loss: 0.3969 - val_accuracy: 0.8196\n",
      "Epoch 73/100\n",
      "165/165 [==============================] - 0s 2ms/step - loss: 0.3920 - accuracy: 0.8234 - val_loss: 0.3966 - val_accuracy: 0.8222\n",
      "Epoch 74/100\n",
      "165/165 [==============================] - 0s 2ms/step - loss: 0.3919 - accuracy: 0.8227 - val_loss: 0.3965 - val_accuracy: 0.8200\n",
      "Epoch 75/100\n",
      "165/165 [==============================] - 0s 3ms/step - loss: 0.3918 - accuracy: 0.8240 - val_loss: 0.3961 - val_accuracy: 0.8182\n",
      "Epoch 76/100\n",
      "165/165 [==============================] - 0s 3ms/step - loss: 0.3915 - accuracy: 0.8244 - val_loss: 0.3962 - val_accuracy: 0.8196\n",
      "Epoch 77/100\n",
      "165/165 [==============================] - 0s 3ms/step - loss: 0.3912 - accuracy: 0.8227 - val_loss: 0.3975 - val_accuracy: 0.8169\n",
      "Epoch 78/100\n",
      "165/165 [==============================] - 0s 3ms/step - loss: 0.3914 - accuracy: 0.8240 - val_loss: 0.3970 - val_accuracy: 0.8187\n",
      "Epoch 79/100\n",
      "165/165 [==============================] - 0s 2ms/step - loss: 0.3916 - accuracy: 0.8244 - val_loss: 0.3972 - val_accuracy: 0.8196\n",
      "Epoch 80/100\n",
      "165/165 [==============================] - 0s 2ms/step - loss: 0.3910 - accuracy: 0.8257 - val_loss: 0.3971 - val_accuracy: 0.8169\n",
      "Epoch 81/100\n",
      "165/165 [==============================] - 0s 2ms/step - loss: 0.3912 - accuracy: 0.8229 - val_loss: 0.3979 - val_accuracy: 0.8173\n",
      "Epoch 82/100\n",
      "165/165 [==============================] - 0s 2ms/step - loss: 0.3909 - accuracy: 0.8236 - val_loss: 0.3990 - val_accuracy: 0.8169\n",
      "Epoch 83/100\n",
      "165/165 [==============================] - 0s 2ms/step - loss: 0.3909 - accuracy: 0.8244 - val_loss: 0.3976 - val_accuracy: 0.8178\n",
      "Epoch 84/100\n",
      "165/165 [==============================] - 0s 2ms/step - loss: 0.3905 - accuracy: 0.8232 - val_loss: 0.3976 - val_accuracy: 0.8191\n",
      "Epoch 85/100\n",
      "165/165 [==============================] - 0s 2ms/step - loss: 0.3906 - accuracy: 0.8238 - val_loss: 0.3979 - val_accuracy: 0.8213\n",
      "Epoch 86/100\n",
      "165/165 [==============================] - 0s 2ms/step - loss: 0.3911 - accuracy: 0.8236 - val_loss: 0.3987 - val_accuracy: 0.8169\n",
      "Epoch 87/100\n",
      "165/165 [==============================] - 0s 3ms/step - loss: 0.3902 - accuracy: 0.8244 - val_loss: 0.3979 - val_accuracy: 0.8191\n",
      "Epoch 88/100\n",
      "165/165 [==============================] - 0s 3ms/step - loss: 0.3907 - accuracy: 0.8244 - val_loss: 0.3988 - val_accuracy: 0.8160\n",
      "Epoch 89/100\n",
      "165/165 [==============================] - 0s 2ms/step - loss: 0.3899 - accuracy: 0.8240 - val_loss: 0.3996 - val_accuracy: 0.8196\n",
      "Epoch 90/100\n",
      "165/165 [==============================] - 0s 2ms/step - loss: 0.3898 - accuracy: 0.8230 - val_loss: 0.3978 - val_accuracy: 0.8204\n",
      "Epoch 91/100\n",
      "165/165 [==============================] - 0s 2ms/step - loss: 0.3904 - accuracy: 0.8263 - val_loss: 0.3981 - val_accuracy: 0.8178\n",
      "Epoch 92/100\n",
      "165/165 [==============================] - 0s 2ms/step - loss: 0.3899 - accuracy: 0.8242 - val_loss: 0.3983 - val_accuracy: 0.8187\n",
      "Epoch 93/100\n",
      "165/165 [==============================] - 0s 2ms/step - loss: 0.3899 - accuracy: 0.8221 - val_loss: 0.4005 - val_accuracy: 0.8173\n",
      "Epoch 94/100\n",
      "165/165 [==============================] - 0s 2ms/step - loss: 0.3899 - accuracy: 0.8232 - val_loss: 0.3985 - val_accuracy: 0.8191\n",
      "Epoch 95/100\n",
      "165/165 [==============================] - 0s 2ms/step - loss: 0.3896 - accuracy: 0.8253 - val_loss: 0.3988 - val_accuracy: 0.8200\n",
      "Epoch 96/100\n",
      "165/165 [==============================] - 0s 2ms/step - loss: 0.3897 - accuracy: 0.8242 - val_loss: 0.3986 - val_accuracy: 0.8196\n",
      "Epoch 97/100\n",
      "165/165 [==============================] - 0s 3ms/step - loss: 0.3898 - accuracy: 0.8242 - val_loss: 0.4007 - val_accuracy: 0.8178\n",
      "Epoch 98/100\n",
      "165/165 [==============================] - 0s 3ms/step - loss: 0.3891 - accuracy: 0.8244 - val_loss: 0.4006 - val_accuracy: 0.8196\n",
      "Epoch 99/100\n",
      "165/165 [==============================] - 0s 2ms/step - loss: 0.3895 - accuracy: 0.8248 - val_loss: 0.4000 - val_accuracy: 0.8204\n",
      "Epoch 100/100\n",
      "165/165 [==============================] - 0s 3ms/step - loss: 0.3896 - accuracy: 0.8232 - val_loss: 0.3989 - val_accuracy: 0.8209\n"
     ]
    }
   ],
   "source": [
    "result = model.fit(x_train_trans, y_train, epochs=100, validation_split=0.3)"
   ]
  },
  {
   "cell_type": "code",
   "execution_count": 21,
   "id": "64624088-b1f9-40dd-aafb-078688e6fe64",
   "metadata": {},
   "outputs": [
    {
     "name": "stdout",
     "output_type": "stream",
     "text": [
      "79/79 [==============================] - 0s 1ms/step\n"
     ]
    },
    {
     "data": {
      "text/plain": [
       "0.8344"
      ]
     },
     "execution_count": 21,
     "metadata": {},
     "output_type": "execute_result"
    }
   ],
   "source": [
    "y_log = model.predict(x_test_trans)\n",
    "y_pred = np.where(y_log<0.5, 0, 1)\n",
    "accuracy_score(y_test, y_pred)"
   ]
  },
  {
   "cell_type": "code",
   "execution_count": 24,
   "id": "72c9401f-36e6-4745-9131-c96e24c87ff9",
   "metadata": {},
   "outputs": [
    {
     "data": {
      "text/plain": [
       "[<matplotlib.lines.Line2D at 0x7fc796cf63a0>]"
      ]
     },
     "execution_count": 24,
     "metadata": {},
     "output_type": "execute_result"
    },
    {
     "data": {
      "image/png": "[encoded data removed]",
      "text/plain": [
       "<Figure size 640x480 with 1 Axes>"
      ]
     },
     "metadata": {},
     "output_type": "display_data"
    }
   ],
   "source": [
    "plt.plot(result.history['loss'])"
   ]
  },
  {
   "cell_type": "code",
   "execution_count": 25,
   "id": "c9dcee47-98c1-41f9-981a-c539ecc6de5c",
   "metadata": {},
   "outputs": [
    {
     "data": {
      "text/plain": [
       "[<matplotlib.lines.Line2D at 0x7fc78380df40>]"
      ]
     },
     "execution_count": 25,
     "metadata": {},
     "output_type": "execute_result"
    },
    {
     "data": {
      "image/png": "[encoded data removed]",
      "text/plain": [
       "<Figure size 640x480 with 1 Axes>"
      ]
     },
     "metadata": {},
     "output_type": "display_data"
    }
   ],
   "source": [
    "plt.plot(result.history['loss'])\n",
    "plt.plot(result.history['val_loss'])"
   ]
  },
  {
   "cell_type": "code",
   "execution_count": 26,
   "id": "a60b14bf-fcda-4255-a59b-f44258aa6873",
   "metadata": {},
   "outputs": [
    {
     "data": {
      "text/plain": [
       "[<matplotlib.lines.Line2D at 0x7fc783791160>]"
      ]
     },
     "execution_count": 26,
     "metadata": {},
     "output_type": "execute_result"
    },
    {
     "data": {
      "image/png": "[encoded data removed]",
      "text/plain": [
       "<Figure size 640x480 with 1 Axes>"
      ]
     },
     "metadata": {},
     "output_type": "display_data"
    }
   ],
   "source": [
    "plt.plot(result.history['accuracy'])\n",
    "plt.plot(result.history['val_accuracy'])"
   ]
  },
  {
   "cell_type": "code",
   "execution_count": null,
   "id": "2a02dd29-de98-49b5-8c66-fde67437a2e8",
   "metadata": {},
   "outputs": [],
   "source": []
  },
  {
   "cell_type": "code",
   "execution_count": null,
   "id": "4da43ca3-9b6f-4801-add5-f7b1c70b630d",
   "metadata": {},
   "outputs": [],
   "source": []
  },
  {
   "cell_type": "code",
   "execution_count": null,
   "id": "0e0cdc24-03a4-4ddf-8c35-010c8daddf99",
   "metadata": {},
   "outputs": [],
   "source": []
  }
 ],
 "metadata": {
  "kernelspec": {
   "display_name": "Python 3 (ipykernel)",
   "language": "python",
   "name": "python3"
  },
  "language_info": {
   "codemirror_mode": {
    "name": "ipython",
    "version": 3
   },
   "file_extension": ".py",
   "mimetype": "text/x-python",
   "name": "python",
   "nbconvert_exporter": "python",
   "pygments_lexer": "ipython3",
   "version": "3.9.16"
  },
  "toc-autonumbering": true,
  "toc-showcode": false,
  "toc-showmarkdowntxt": false,
  "toc-showtags": false
 },
 "nbformat": 4,
 "nbformat_minor": 5
}
